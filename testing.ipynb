{
 "cells": [
  {
   "cell_type": "code",
   "execution_count": 6,
   "metadata": {},
   "outputs": [],
   "source": [
    "from utils.helper import GenAIHelper"
   ]
  },
  {
   "cell_type": "code",
   "execution_count": 7,
   "metadata": {},
   "outputs": [
    {
     "name": "stdout",
     "output_type": "stream",
     "text": [
      "Using Google API key: AIza...\n",
      "models/gemini-1.0-pro-latest\n",
      "models/gemini-1.0-pro\n",
      "models/gemini-pro\n",
      "models/gemini-1.0-pro-001\n",
      "models/gemini-1.0-pro-vision-latest\n",
      "models/gemini-pro-vision\n",
      "models/gemini-1.5-pro-latest\n",
      "models/gemini-1.5-pro-001\n",
      "models/gemini-1.5-pro-002\n",
      "models/gemini-1.5-pro\n",
      "models/gemini-1.5-pro-exp-0801\n",
      "models/gemini-1.5-pro-exp-0827\n",
      "models/gemini-1.5-flash-latest\n",
      "models/gemini-1.5-flash-001\n",
      "models/gemini-1.5-flash-001-tuning\n",
      "models/gemini-1.5-flash\n",
      "models/gemini-1.5-flash-exp-0827\n",
      "models/gemini-1.5-flash-002\n",
      "models/gemini-1.5-flash-8b\n",
      "models/gemini-1.5-flash-8b-001\n",
      "models/gemini-1.5-flash-8b-latest\n",
      "models/gemini-1.5-flash-8b-exp-0827\n",
      "models/gemini-1.5-flash-8b-exp-0924\n",
      "models/learnlm-1.5-pro-experimental\n",
      "models/gemini-exp-1114\n",
      "models/gemini-exp-1121\n"
     ]
    },
    {
     "data": {
      "text/markdown": [
       "> The theory of relativity, developed primarily by Albert Einstein, revolutionized our understanding of space, time, gravity, and the universe. It's actually two separate theories:\n",
       "> \n",
       "> **1. Special Relativity (1905):** Deals with the relationship between space and time in the absence of gravity.  It's based on two postulates:\n",
       "> \n",
       "> * **The laws of physics are the same for all observers in uniform motion.**  This means that no matter how fast you're moving at a constant speed in a straight line, the laws of physics will be the same as if you were standing still.\n",
       "> * **The speed of light in a vacuum is the same for all observers, regardless of the motion of the light source.**  This is counterintuitive.  Imagine someone shining a flashlight while standing still, and another person shining a flashlight while running.  You might expect the light from the running person to travel faster.  Special relativity says it doesn't.\n",
       "> \n",
       "> These postulates have some mind-bending consequences:\n",
       "> \n",
       "> * **Time dilation:** Time slows down for moving objects relative to stationary observers. The faster an object moves, the slower time passes for it. This effect is only noticeable at very high speeds approaching the speed of light.\n",
       "> * **Length contraction:** The length of a moving object appears shorter in the direction of motion relative to a stationary observer.  Again, this is only noticeable at very high speeds.\n",
       "> * **Mass-energy equivalence (E=mc²):**  Perhaps the most famous equation in physics.  This states that mass and energy are equivalent and interchangeable.  A small amount of mass can be converted into a tremendous amount of energy, as seen in nuclear reactions.\n",
       "> \n",
       "> **2. General Relativity (1915):** Extends special relativity to include gravity.  Instead of viewing gravity as a force, Einstein described it as a curvature of spacetime caused by the presence of mass and energy.\n",
       "> \n",
       "> * **Spacetime:** A four-dimensional framework combining three spatial dimensions (length, width, height) and one time dimension.  Massive objects warp this spacetime fabric.\n",
       "> * **Gravity as curvature:** Imagine placing a bowling ball on a stretched rubber sheet. The ball creates a dip, and if you roll a marble nearby, it will curve towards the bowling ball.  Similarly, massive objects create \"dips\" in spacetime, causing other objects to move along curved paths.  This curvature *is* gravity.\n",
       "> * **Consequences of General Relativity:**\n",
       ">     * **Bending of light:** Light follows the curvature of spacetime, so it bends when passing near massive objects. This has been experimentally verified.\n",
       ">     * **Gravitational time dilation:** Time slows down in stronger gravitational fields.  This means time passes slightly slower at sea level than on a mountaintop.\n",
       ">     * **Gravitational redshift:** Light loses energy as it escapes a gravitational field, causing its wavelength to stretch and shift towards the red end of the spectrum.\n",
       ">     * **Black holes:** Extremely massive objects can warp spacetime so much that nothing, not even light, can escape their gravitational pull.\n",
       ">     * **Expansion of the universe:** General relativity provides the framework for understanding the expansion of the universe.\n",
       "> \n",
       "> In summary, relativity revolutionized our understanding of the universe by showing that space and time are intertwined and that gravity is a manifestation of the curvature of this spacetime fabric. While seemingly abstract, these theories have been experimentally verified and are essential for understanding phenomena ranging from GPS technology to the evolution of the cosmos.\n"
      ],
      "text/plain": [
       "<IPython.core.display.Markdown object>"
      ]
     },
     "metadata": {},
     "output_type": "display_data"
    }
   ],
   "source": [
    "# Create an instance of the helper class\n",
    "gen_ai_helper = GenAIHelper()\n",
    "\n",
    "# Generate a response\n",
    "prompt = \"Explain the theory of relativity.\"\n",
    "response = gen_ai_helper.generate_response(prompt)\n",
    "\n",
    "# List available models\n",
    "gen_ai_helper.model_list()\n",
    "\n",
    "# Convert text to Markdown\n",
    "markdown_text = gen_ai_helper.to_markdown(response)\n",
    "display(markdown_text)\n"
   ]
  },
  {
   "cell_type": "code",
   "execution_count": null,
   "metadata": {},
   "outputs": [],
   "source": []
  }
 ],
 "metadata": {
  "kernelspec": {
   "display_name": ".venv",
   "language": "python",
   "name": "python3"
  },
  "language_info": {
   "codemirror_mode": {
    "name": "ipython",
    "version": 3
   },
   "file_extension": ".py",
   "mimetype": "text/x-python",
   "name": "python",
   "nbconvert_exporter": "python",
   "pygments_lexer": "ipython3",
   "version": "3.10.15"
  }
 },
 "nbformat": 4,
 "nbformat_minor": 2
}
