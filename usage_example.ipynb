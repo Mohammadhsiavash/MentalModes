{
 "cells": [
  {
   "cell_type": "code",
   "execution_count": 5,
   "metadata": {},
   "outputs": [
    {
     "name": "stderr",
     "output_type": "stream",
     "text": [
      "/Users/rumanahmedshaikh/Projects/PersonalResearchProjects/MentalModes/.venv/lib/python3.10/site-packages/tqdm/auto.py:21: TqdmWarning: IProgress not found. Please update jupyter and ipywidgets. See https://ipywidgets.readthedocs.io/en/stable/user_install.html\n",
      "  from .autonotebook import tqdm as notebook_tqdm\n"
     ]
    }
   ],
   "source": [
    "from utils.helper import GenAIHelper, PromptHelper"
   ]
  },
  {
   "cell_type": "code",
   "execution_count": 7,
   "metadata": {},
   "outputs": [
    {
     "name": "stdout",
     "output_type": "stream",
     "text": [
      "Using Google API key: AIza...\n",
      "models/gemini-1.0-pro-latest\n",
      "models/gemini-1.0-pro\n",
      "models/gemini-pro\n",
      "models/gemini-1.0-pro-001\n",
      "models/gemini-1.0-pro-vision-latest\n",
      "models/gemini-pro-vision\n",
      "models/gemini-1.5-pro-latest\n",
      "models/gemini-1.5-pro-001\n",
      "models/gemini-1.5-pro-002\n",
      "models/gemini-1.5-pro\n",
      "models/gemini-1.5-pro-exp-0801\n",
      "models/gemini-1.5-pro-exp-0827\n",
      "models/gemini-1.5-flash-latest\n",
      "models/gemini-1.5-flash-001\n",
      "models/gemini-1.5-flash-001-tuning\n",
      "models/gemini-1.5-flash\n",
      "models/gemini-1.5-flash-exp-0827\n",
      "models/gemini-1.5-flash-002\n",
      "models/gemini-1.5-flash-8b\n",
      "models/gemini-1.5-flash-8b-001\n",
      "models/gemini-1.5-flash-8b-latest\n",
      "models/gemini-1.5-flash-8b-exp-0827\n",
      "models/gemini-1.5-flash-8b-exp-0924\n",
      "models/learnlm-1.5-pro-experimental\n",
      "models/gemini-exp-1114\n",
      "models/gemini-exp-1121\n"
     ]
    },
    {
     "data": {
      "text/markdown": [
       "> The theory of relativity, developed primarily by Albert Einstein, revolutionized our understanding of space, time, gravity, and the universe. It's actually two separate theories:\n",
       "> \n",
       "> **1. Special Relativity (1905):** Deals with the relationship between space and time in the absence of gravity.  It's based on two postulates:\n",
       "> \n",
       "> * **The laws of physics are the same for all observers in uniform motion.**  This means that no matter how fast you're moving at a constant speed in a straight line, the laws of physics will be the same as if you were standing still.\n",
       "> * **The speed of light in a vacuum is the same for all observers, regardless of the motion of the light source.**  This is counterintuitive.  Imagine someone shining a flashlight while standing still, and another person shining a flashlight while running.  You might expect the light from the running person to travel faster.  Special relativity says it doesn't.\n",
       "> \n",
       "> These postulates have some mind-bending consequences:\n",
       "> \n",
       "> * **Time dilation:** Time slows down for moving objects relative to stationary observers. The faster an object moves, the slower time passes for it. This effect is only noticeable at very high speeds approaching the speed of light.\n",
       "> * **Length contraction:** The length of a moving object appears shorter in the direction of motion relative to a stationary observer.  Again, this is only noticeable at very high speeds.\n",
       "> * **Mass-energy equivalence (E=mc²):**  Perhaps the most famous equation in physics.  This states that mass and energy are equivalent and interchangeable.  A small amount of mass can be converted into a tremendous amount of energy, as seen in nuclear reactions.\n",
       "> \n",
       "> **2. General Relativity (1915):** Extends special relativity to include gravity.  Instead of viewing gravity as a force, Einstein described it as a curvature of spacetime caused by the presence of mass and energy.\n",
       "> \n",
       "> * **Spacetime:** A four-dimensional framework combining three spatial dimensions (length, width, height) and one time dimension.  Massive objects warp this spacetime fabric.\n",
       "> * **Gravity as curvature:** Imagine placing a bowling ball on a stretched rubber sheet. The ball creates a dip, and if you roll a marble nearby, it will curve towards the bowling ball.  Similarly, massive objects create \"dips\" in spacetime, causing other objects to move along curved paths.  This curvature *is* gravity.\n",
       "> * **Consequences of General Relativity:**\n",
       ">     * **Bending of light:** Light follows the curvature of spacetime, so it bends when passing near massive objects. This has been experimentally verified.\n",
       ">     * **Gravitational time dilation:** Time slows down in stronger gravitational fields.  This means time passes slightly slower at sea level than on a mountaintop.\n",
       ">     * **Gravitational redshift:** Light loses energy as it escapes a gravitational field, causing its wavelength to stretch and shift towards the red end of the spectrum.\n",
       ">     * **Black holes:** Extremely massive objects can warp spacetime so much that nothing, not even light, can escape their gravitational pull.\n",
       ">     * **Expansion of the universe:** General relativity provides the framework for understanding the expansion of the universe.\n",
       "> \n",
       "> In summary, relativity revolutionized our understanding of the universe by showing that space and time are intertwined and that gravity is a manifestation of the curvature of this spacetime fabric. While seemingly abstract, these theories have been experimentally verified and are essential for understanding phenomena ranging from GPS technology to the evolution of the cosmos.\n"
      ],
      "text/plain": [
       "<IPython.core.display.Markdown object>"
      ]
     },
     "metadata": {},
     "output_type": "display_data"
    }
   ],
   "source": [
    "# Create an instance of the helper class\n",
    "gen_ai_helper = GenAIHelper()\n",
    "\n",
    "# Generate a response\n",
    "prompt = \"Explain the theory of relativity.\"\n",
    "response = gen_ai_helper.generate_response(prompt)\n",
    "\n",
    "# List available models\n",
    "gen_ai_helper.model_list()\n",
    "\n",
    "# Convert text to Markdown\n",
    "markdown_text = gen_ai_helper.to_markdown(response)\n",
    "display(markdown_text)\n"
   ]
  },
  {
   "cell_type": "code",
   "execution_count": 6,
   "metadata": {},
   "outputs": [
    {
     "name": "stdout",
     "output_type": "stream",
     "text": [
      "Formatted Prompt:\n",
      "You are a math tutor who explains complex mathematical concepts in simple terms.\n",
      "\n",
      "Can you explain the Pythagorean theorem?\n"
     ]
    }
   ],
   "source": [
    "# Initialize the PromptHelper with the path to the JSON file\n",
    "prompts_file = \"system_prompts.json\"\n",
    "prompt_helper = PromptHelper(prompts_file)\n",
    "\n",
    "# Build a prompt\n",
    "system_prompt_name = \"math_tutor\"\n",
    "user_prompt = \"Can you explain the Pythagorean theorem?\"\n",
    "try:\n",
    "    full_prompt = prompt_helper.build_prompt(system_prompt_name, user_prompt)\n",
    "    print(\"Formatted Prompt:\")\n",
    "    print(full_prompt)\n",
    "except Exception as e:\n",
    "    print(f\"Error: {e}\")\n"
   ]
  },
  {
   "cell_type": "code",
   "execution_count": 16,
   "metadata": {},
   "outputs": [
    {
     "name": "stdout",
     "output_type": "stream",
     "text": [
      "                                             question    question_type  \\\n",
      "12  Has there ever been a period of time when you ...      description   \n",
      "13  If you checked YES to more than one of the abo...  multiple-choice   \n",
      "14  How much of a problem did any of these cause y...  multiple-choice   \n",
      "15  Have any of your blood relatives (ie, children...  multiple-choice   \n",
      "16  Has a health professional ever told you that y...  multiple-choice   \n",
      "\n",
      "      choice_1       choice_2          choice_3         choice_4  \n",
      "12         NaN            NaN               NaN              NaN  \n",
      "13         Yes             No               NaN              NaN  \n",
      "14  No problem  Minor problem  Moderate problem  Serious problem  \n",
      "15         Yes             No               NaN              NaN  \n",
      "16         Yes             No               NaN              NaN  \n"
     ]
    }
   ],
   "source": [
    "import pandas as pd\n",
    "\n",
    "# Path to the CSV file\n",
    "file_path = \"data/MDQ_Screener_Questions.csv\"  # Replace with the correct path if necessary\n",
    "\n",
    "# Read the CSV into a DataFrame\n",
    "df = pd.read_csv(file_path)\n",
    "\n",
    "# Display the first few rows of the DataFrame\n",
    "print(df.tail())"
   ]
  },
  {
   "cell_type": "code",
   "execution_count": null,
   "metadata": {},
   "outputs": [
    {
     "name": "stdout",
     "output_type": "stream",
     "text": [
      "Has there ever been a period of time when you were not your usual self and… you felt so good or so hyper that other people thought you were not your normal self or you were so hyper that you got into trouble?\n",
      "Please describe your answer.\n",
      "\n",
      "Has there ever been a period of time when you were not your usual self and… you were so irritable that you shouted at people or started fights or arguments?\n",
      "Please describe your answer.\n",
      "\n",
      "Has there ever been a period of time when you were not your usual self and… you felt much more self-confident than usual?\n",
      "Please describe your answer.\n",
      "\n",
      "Has there ever been a period of time when you were not your usual self and… you got much less sleep than usual and found you didn’t really miss it?\n",
      "Please describe your answer.\n",
      "\n",
      "Has there ever been a period of time when you were not your usual self and… you were much more talkative or spoke faster than usual?\n",
      "Please describe your answer.\n",
      "\n",
      "Has there ever been a period of time when you were not your usual self and… thoughts raced through your head or you couldn’t slow your mind down?\n",
      "Please describe your answer.\n",
      "\n",
      "Has there ever been a period of time when you were not your usual self and… you were so easily distracted by things around you that you had trouble concentrating or staying on track?\n",
      "Please describe your answer.\n",
      "\n",
      "Has there ever been a period of time when you were not your usual self and… you had much more energy than usual?\n",
      "Please describe your answer.\n",
      "\n",
      "Has there ever been a period of time when you were not your usual self and… you were much more active or did many more things than usual?\n",
      "Please describe your answer.\n",
      "\n",
      "Has there ever been a period of time when you were not your usual self and… you were much more social or outgoing than usual, for example, you telephoned friends in the middle of the night?\n",
      "Please describe your answer.\n",
      "\n",
      "Has there ever been a period of time when you were not your usual self and… you were much more interested in sex than usual?\n",
      "Please describe your answer.\n",
      "\n",
      "Has there ever been a period of time when you were not your usual self and… you did things that were unusual for you or that other people might have thought were excessive, foolish, or risky?\n",
      "Please describe your answer.\n",
      "\n",
      "Has there ever been a period of time when you were not your usual self and… spending money got you or your family in trouble?\n",
      "Please describe your answer.\n",
      "\n",
      "If you checked YES to more than one of the above, have several of these ever happened during the same period of time?\n",
      "Select one of the options below:\n",
      "- Yes\n",
      "- No\n",
      "\n",
      "How much of a problem did any of these cause you — like being able to work; having family, money, or legal troubles; getting into arguments or fights?\n",
      "Select one of the options below:\n",
      "- No problem\n",
      "- Minor problem\n",
      "- Moderate problem\n",
      "- Serious problem\n",
      "\n",
      "Have any of your blood relatives (ie, children, siblings, parents, grandparents, aunts, uncles) had manic-depressive illness or bipolar disorder?\n",
      "Select one of the options below:\n",
      "- Yes\n",
      "- No\n",
      "\n",
      "Has a health professional ever told you that you have manic-depressive illness or bipolar disorder?\n",
      "Select one of the options below:\n",
      "- Yes\n",
      "- No\n",
      "\n"
     ]
    }
   ],
   "source": [
    "# Loop through each row and generate the string\n",
    "for index, row in df.iterrows():\n",
    "    question = row['question']\n",
    "    question_type = row['question_type']\n",
    "\n",
    "    if question_type == \"description\":\n",
    "        # For description type\n",
    "        print(f\"{question}\\nPlease describe your answer.\\n\")\n",
    "    elif question_type == \"multiple-choice\":\n",
    "        # For multiple-choice type\n",
    "        options = [row[f\"choice_{i}\"] for i in range(1, 5) if pd.notna(row[f\"choice_{i}\"])]\n",
    "        options_str = \"\\n\".join([f\"- {option}\" for option in options])\n",
    "        print(f\"{question}\\nSelect one of the options below:\\n{options_str}\\n\")\n"
   ]
  },
  {
   "cell_type": "code",
   "execution_count": null,
   "metadata": {},
   "outputs": [],
   "source": []
  }
 ],
 "metadata": {
  "kernelspec": {
   "display_name": ".venv",
   "language": "python",
   "name": "python3"
  },
  "language_info": {
   "codemirror_mode": {
    "name": "ipython",
    "version": 3
   },
   "file_extension": ".py",
   "mimetype": "text/x-python",
   "name": "python",
   "nbconvert_exporter": "python",
   "pygments_lexer": "ipython3",
   "version": "3.10.15"
  }
 },
 "nbformat": 4,
 "nbformat_minor": 2
}
